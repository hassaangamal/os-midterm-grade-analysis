{
 "cells": [
  {
   "cell_type": "markdown",
   "id": "b0900afb",
   "metadata": {},
   "source": [
    "# <center> OS midterm Grades Analsis</center>\n"
   ]
  },
  {
   "cell_type": "markdown",
   "id": "60197114",
   "metadata": {},
   "source": [
    "Import libraries that needed to our analsisys"
   ]
  },
  {
   "cell_type": "code",
   "execution_count": 1,
   "id": "72a69510",
   "metadata": {},
   "outputs": [],
   "source": [
    "import pandas as pd\n",
    "import numpy as np\n",
    "import matplotlib.pyplot as plt"
   ]
  },
  {
   "cell_type": "markdown",
   "id": "649b3e92",
   "metadata": {},
   "source": [
    "Read CSV file\n"
   ]
  },
  {
   "cell_type": "code",
   "execution_count": 2,
   "id": "00c86cbc",
   "metadata": {},
   "outputs": [
    {
     "data": {
      "text/html": [
       "<div>\n",
       "<style scoped>\n",
       "    .dataframe tbody tr th:only-of-type {\n",
       "        vertical-align: middle;\n",
       "    }\n",
       "\n",
       "    .dataframe tbody tr th {\n",
       "        vertical-align: top;\n",
       "    }\n",
       "\n",
       "    .dataframe thead th {\n",
       "        text-align: right;\n",
       "    }\n",
       "</style>\n",
       "<table border=\"1\" class=\"dataframe\">\n",
       "  <thead>\n",
       "    <tr style=\"text-align: right;\">\n",
       "      <th></th>\n",
       "      <th>StudentID</th>\n",
       "      <th>MIDTERM\\nTotal Marks</th>\n",
       "    </tr>\n",
       "  </thead>\n",
       "  <tbody>\n",
       "    <tr>\n",
       "      <th>0</th>\n",
       "      <td>NaN</td>\n",
       "      <td>15.0</td>\n",
       "    </tr>\n",
       "    <tr>\n",
       "      <th>1</th>\n",
       "      <td>2.020170e+10</td>\n",
       "      <td>15.0</td>\n",
       "    </tr>\n",
       "    <tr>\n",
       "      <th>2</th>\n",
       "      <td>2.020170e+10</td>\n",
       "      <td>14.5</td>\n",
       "    </tr>\n",
       "    <tr>\n",
       "      <th>3</th>\n",
       "      <td>2.020170e+10</td>\n",
       "      <td>14.0</td>\n",
       "    </tr>\n",
       "    <tr>\n",
       "      <th>4</th>\n",
       "      <td>2.020170e+10</td>\n",
       "      <td>14.0</td>\n",
       "    </tr>\n",
       "    <tr>\n",
       "      <th>...</th>\n",
       "      <td>...</td>\n",
       "      <td>...</td>\n",
       "    </tr>\n",
       "    <tr>\n",
       "      <th>1182</th>\n",
       "      <td>2.020170e+10</td>\n",
       "      <td>NaN</td>\n",
       "    </tr>\n",
       "    <tr>\n",
       "      <th>1183</th>\n",
       "      <td>2.020170e+10</td>\n",
       "      <td>NaN</td>\n",
       "    </tr>\n",
       "    <tr>\n",
       "      <th>1184</th>\n",
       "      <td>2.019170e+10</td>\n",
       "      <td>NaN</td>\n",
       "    </tr>\n",
       "    <tr>\n",
       "      <th>1185</th>\n",
       "      <td>2.020170e+10</td>\n",
       "      <td>NaN</td>\n",
       "    </tr>\n",
       "    <tr>\n",
       "      <th>1186</th>\n",
       "      <td>2.019170e+10</td>\n",
       "      <td>NaN</td>\n",
       "    </tr>\n",
       "  </tbody>\n",
       "</table>\n",
       "<p>1187 rows × 2 columns</p>\n",
       "</div>"
      ],
      "text/plain": [
       "         StudentID  MIDTERM\\nTotal Marks\n",
       "0              NaN                  15.0\n",
       "1     2.020170e+10                  15.0\n",
       "2     2.020170e+10                  14.5\n",
       "3     2.020170e+10                  14.0\n",
       "4     2.020170e+10                  14.0\n",
       "...            ...                   ...\n",
       "1182  2.020170e+10                   NaN\n",
       "1183  2.020170e+10                   NaN\n",
       "1184  2.019170e+10                   NaN\n",
       "1185  2.020170e+10                   NaN\n",
       "1186  2.019170e+10                   NaN\n",
       "\n",
       "[1187 rows x 2 columns]"
      ]
     },
     "execution_count": 2,
     "metadata": {},
     "output_type": "execute_result"
    }
   ],
   "source": [
    "df = pd.read_excel(\"[OS'23] Midterm.xlsx\")\n",
    "df"
   ]
  },
  {
   "cell_type": "markdown",
   "id": "1e506ef6",
   "metadata": {},
   "source": [
    "Extract last column and convert to a list\n"
   ]
  },
  {
   "cell_type": "code",
   "execution_count": 3,
   "id": "d383f16b",
   "metadata": {},
   "outputs": [
    {
     "data": {
      "text/plain": [
       "0       15.0\n",
       "1       15.0\n",
       "2       14.5\n",
       "3       14.0\n",
       "4       14.0\n",
       "        ... \n",
       "1182     NaN\n",
       "1183     NaN\n",
       "1184     NaN\n",
       "1185     NaN\n",
       "1186     NaN\n",
       "Name: MIDTERM\\nTotal Marks, Length: 1187, dtype: float64"
      ]
     },
     "execution_count": 3,
     "metadata": {},
     "output_type": "execute_result"
    }
   ],
   "source": [
    "last_column = df.iloc[:, -1]\n",
    "last_column"
   ]
  },
  {
   "cell_type": "markdown",
   "id": "c98f46ba",
   "metadata": {},
   "source": [
    " Create a new DataFrame with 'Grades' column and make any rows with missing values equal to 0 (beacause they was abseing)\n"
   ]
  },
  {
   "cell_type": "code",
   "execution_count": 4,
   "id": "8fa64334",
   "metadata": {},
   "outputs": [],
   "source": [
    "df = pd.DataFrame({'Grades': last_column})\n",
    "df['Grades'] = pd.to_numeric(df['Grades'], errors='coerce')\n",
    "\n"
   ]
  },
  {
   "cell_type": "markdown",
   "id": "69c5a757",
   "metadata": {},
   "source": [
    "drop null values"
   ]
  },
  {
   "cell_type": "code",
   "execution_count": 5,
   "id": "42c9049c",
   "metadata": {},
   "outputs": [],
   "source": [
    "df.dropna()\n",
    "df.drop(0,axis=0,inplace=True)"
   ]
  },
  {
   "cell_type": "markdown",
   "id": "86c2d44f",
   "metadata": {},
   "source": [
    "calculates the number of occurrences for each unique value in the *Grades* column "
   ]
  },
  {
   "cell_type": "code",
   "execution_count": 6,
   "id": "db7c67a8",
   "metadata": {},
   "outputs": [],
   "source": [
    "counts = df['Grades'].value_counts().to_dict()"
   ]
  },
  {
   "cell_type": "markdown",
   "id": "fe481915",
   "metadata": {},
   "source": [
    "create a dictionary contains two lists: 'Grades' which holds the unique values from the \"Grades\" column, and 'Counts' which holds the corresponding frequencies for each unique value."
   ]
  },
  {
   "cell_type": "code",
   "execution_count": 7,
   "id": "021d605a",
   "metadata": {},
   "outputs": [],
   "source": [
    "data = {'Grades': list(counts.keys()), 'Counts': list(counts.values())}\n"
   ]
  },
  {
   "cell_type": "markdown",
   "id": "6574e5a7",
   "metadata": {},
   "source": [
    "create data frame to make plotting more easiest"
   ]
  },
  {
   "cell_type": "code",
   "execution_count": 8,
   "id": "d7b9f47e",
   "metadata": {},
   "outputs": [],
   "source": [
    "df_counts = pd.DataFrame(data)"
   ]
  },
  {
   "cell_type": "markdown",
   "id": "bd6ad5d3",
   "metadata": {},
   "source": [
    "sort the dataframe df_counts in place, so the changes will be applied directly to the dataframe to"
   ]
  },
  {
   "cell_type": "code",
   "execution_count": 9,
   "id": "0aa3ac51",
   "metadata": {},
   "outputs": [],
   "source": [
    "df_counts.sort_values(by='Grades', inplace=True)"
   ]
  },
  {
   "cell_type": "code",
   "execution_count": 10,
   "id": "c7eb0da7",
   "metadata": {},
   "outputs": [
    {
     "data": {
      "text/plain": [
       "Text(0.5, 1.0, 'Grades Distribution')"
      ]
     },
     "execution_count": 10,
     "metadata": {},
     "output_type": "execute_result"
    },
    {
     "data": {
      "image/png": "[encoded data removed]",
      "text/plain": [
       "<Figure size 640x480 with 1 Axes>"
      ]
     },
     "metadata": {},
     "output_type": "display_data"
    }
   ],
   "source": [
    "\n",
    "plt.plot(df_counts['Grades'],df_counts['Counts'])\n",
    "\n",
    "plt.ylabel('Frequency')\n",
    "plt.xlabel('Grades')\n",
    "plt.grid(True)\n",
    "\n",
    "plt.title('Grades Distribution')\n"
   ]
  }
 ],
 "metadata": {
  "kernelspec": {
   "display_name": "Python 3 (ipykernel)",
   "language": "python",
   "name": "python3"
  },
  "language_info": {
   "codemirror_mode": {
    "name": "ipython",
    "version": 3
   },
   "file_extension": ".py",
   "mimetype": "text/x-python",
   "name": "python",
   "nbconvert_exporter": "python",
   "pygments_lexer": "ipython3",
   "version": "3.9.7"
  }
 },
 "nbformat": 4,
 "nbformat_minor": 5
}
